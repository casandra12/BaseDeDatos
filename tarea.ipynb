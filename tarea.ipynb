{
  "nbformat": 4,
  "nbformat_minor": 0,
  "metadata": {
    "colab": {
      "name": "tarea.ipynb",
      "provenance": [],
      "authorship_tag": "ABX9TyMaJKSfBnVVvANBOiyxjCKD",
      "include_colab_link": true
    },
    "kernelspec": {
      "name": "python3",
      "display_name": "Python 3"
    },
    "language_info": {
      "name": "python"
    }
  },
  "cells": [
    {
      "cell_type": "markdown",
      "metadata": {
        "id": "view-in-github",
        "colab_type": "text"
      },
      "source": [
        "<a href=\"https://colab.research.google.com/github/casandra12/BaseDeDatos/blob/main/tarea.ipynb\" target=\"_parent\"><img src=\"https://colab.research.google.com/assets/colab-badge.svg\" alt=\"Open In Colab\"/></a>"
      ]
    },
    {
      "cell_type": "code",
      "execution_count": 29,
      "metadata": {
        "colab": {
          "base_uri": "https://localhost:8080/"
        },
        "id": "3xQlIHFvhjWm",
        "outputId": "add4fe8e-a6aa-4e0e-e881-a395ece5c07a"
      },
      "outputs": [
        {
          "output_type": "stream",
          "name": "stdout",
          "text": [
            "cuantos litros hay en un galon: \n",
            "2\n",
            "revise sus datos: \n",
            "3.7\n",
            "cuantos galones hay en un barril?: \n",
            "14\n",
            "cuantos barrriles hay en el barco?: \n",
            "200\n",
            "el total de litros en el barco es de: 10360.0\n"
          ]
        }
      ],
      "source": [
        "total= (galones * galon * barril)\n",
        "barril= 0\n",
        "galon= 0\n",
        "galones=0\n",
        "\n",
        "print(\"cuantos litros hay en un galon: \")\n",
        "galon=float (input())\n",
        "while galon !=3.7: \n",
        "    print(\"revise sus datos: \") \n",
        "    galon=float (input()) \n",
        "if galon == 3.7:\n",
        "    print(\"cuantos galones hay en un barril?: \")\n",
        "    galones=float (input()) \n",
        "    while galones >100 or galones < 1: \n",
        "       print(\"revise sus datos: \")\n",
        "       galones=float (input())  \n",
        "\n",
        "print(\"cuantos barrriles hay en el barco?: \")\n",
        "barril=float (input())\n",
        "while barril >10000 or galones < 1: \n",
        "    print(\"revise sus datos: \")\n",
        "    barril=float (input())\n",
        "if barril >1 or galones < 10000:\n",
        "    print(f\"el total de litros en el barco es de: {total}\")\n",
        "    total= (galones * galon * barril)\n",
        "    \n",
        "    \n",
        "    \n",
        "\n",
        "\n",
        " "
      ]
    }
  ]
}