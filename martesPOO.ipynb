{
  "nbformat": 4,
  "nbformat_minor": 0,
  "metadata": {
    "colab": {
      "provenance": [],
      "authorship_tag": "ABX9TyNC+24eukOZk7NZa+5tM709",
      "include_colab_link": true
    },
    "kernelspec": {
      "name": "python3",
      "display_name": "Python 3"
    },
    "language_info": {
      "name": "python"
    }
  },
  "cells": [
    {
      "cell_type": "markdown",
      "metadata": {
        "id": "view-in-github",
        "colab_type": "text"
      },
      "source": [
        "<a href=\"https://colab.research.google.com/github/casandra12/BaseDeDatos/blob/main/martesPOO.ipynb\" target=\"_parent\"><img src=\"https://colab.research.google.com/assets/colab-badge.svg\" alt=\"Open In Colab\"/></a>"
      ]
    },
    {
      "cell_type": "code",
      "execution_count": null,
      "metadata": {
        "id": "BwH4NFnJ8e94"
      },
      "outputs": [],
      "source": [
        "alumno = {'numero_cuenta' : 1232322 , 'carrera' : 'ICO' ,\n",
        "            'direccion' : {'calle' : 'rancho seco', 'numero' : 23},\n",
        "           'telefonos': ['5526704293','77777777','72378567']\n",
        "          }"
      ]
    },
    {
      "cell_type": "code",
      "source": [
        "print(alumno['direccion']['calle'][3:6:1])\n",
        "print (alumno['telefonos'])\n",
        "print(alumno)\n",
        "alumno['facultad']= \"fes aragon\"\n",
        "print(alumno)"
      ],
      "metadata": {
        "colab": {
          "base_uri": "https://localhost:8080/"
        },
        "id": "3KohhrMv88i7",
        "outputId": "aa7609e7-024c-4fcb-d928-e8573e39ceff"
      },
      "execution_count": null,
      "outputs": [
        {
          "output_type": "stream",
          "name": "stdout",
          "text": [
            "cho\n",
            "['5526704293', '77777777', '72378567']\n",
            "{'numero_cuenta': 1232322, 'carrera': 'ico', 'direccion': {'calle': 'rancho seco', 'numero': 23}, 'telefonos': ['5526704293', '77777777', '72378567']}\n",
            "{'numero_cuenta': 1232322, 'carrera': 'ico', 'direccion': {'calle': 'rancho seco', 'numero': 23}, 'telefonos': ['5526704293', '77777777', '72378567'], 'facultad': 'fes aragon'}\n"
          ]
        }
      ]
    },
    {
      "cell_type": "code",
      "source": [
        "#if\n",
        "edad = 20\n",
        "if edad >= 18:\n",
        "    print(\"Eres mayor de edad.\")\n",
        "    print(\"otra cosa\")\n",
        "    print(\"otra cosa mas\")"
      ],
      "metadata": {
        "colab": {
          "base_uri": "https://localhost:8080/"
        },
        "id": "CSF-xm-Q9UhP",
        "outputId": "7b0969ce-537d-4cc9-80e3-f99b1649bd95"
      },
      "execution_count": null,
      "outputs": [
        {
          "output_type": "stream",
          "name": "stdout",
          "text": [
            "Eres mayor de edad.\n",
            "otra cosa\n",
            "otra cosa mas\n"
          ]
        }
      ]
    },
    {
      "cell_type": "code",
      "source": [
        "# if-esle\n",
        "\n",
        "edad = 67\n",
        "if edad >= 18:\n",
        "    print(\"Eres mayor de edad.\")\n",
        "else:\n",
        "    print(\"Eres menor de edad.\")"
      ],
      "metadata": {
        "colab": {
          "base_uri": "https://localhost:8080/"
        },
        "id": "SUjmCcND_Hh_",
        "outputId": "4398ad5c-4006-4548-950e-ed3d71f606f6"
      },
      "execution_count": null,
      "outputs": [
        {
          "output_type": "stream",
          "name": "stdout",
          "text": [
            "Eres mayor de edad.\n"
          ]
        }
      ]
    },
    {
      "cell_type": "code",
      "source": [
        "# if- elif - else\n",
        "edad = 20\n",
        "if edad < 13:\n",
        "    print(\"Eres un niño.\")\n",
        "elif edad < 18:\n",
        "    print(\"Eres un adolescente.\")\n",
        "else:\n",
        "    print(\"Eres un adulto.\")"
      ],
      "metadata": {
        "colab": {
          "base_uri": "https://localhost:8080/"
        },
        "id": "2WV5lid8_w_M",
        "outputId": "09fb3762-62ad-48b3-bd19-477a0eea416d"
      },
      "execution_count": null,
      "outputs": [
        {
          "output_type": "stream",
          "name": "stdout",
          "text": [
            "Eres un adulto.\n"
          ]
        }
      ]
    },
    {
      "cell_type": "code",
      "source": [
        "# if-elif-elif -- selecion multiple (switch)\n",
        "edad = 20\n",
        "if edad < 13:\n",
        "    print(\"Eres un niño.\")\n",
        "elif edad < 18:\n",
        "    print(\"Eres un adolescente.\")\n",
        "elif edad < 30:\n",
        "    print(\"Eres un joven adulto.\")"
      ],
      "metadata": {
        "colab": {
          "base_uri": "https://localhost:8080/"
        },
        "id": "blaGyJrYAUs0",
        "outputId": "2531032d-e2e8-4819-94e7-4982cd5cd495"
      },
      "execution_count": null,
      "outputs": [
        {
          "output_type": "stream",
          "name": "stdout",
          "text": [
            "Eres un joven adulto.\n"
          ]
        }
      ]
    },
    {
      "cell_type": "code",
      "source": [
        "# For   for(int i = 1 ; i<10 ; i++)\n",
        "\n",
        "for i in range(1, 10, 1):\n",
        "    print(i)\n",
        "\n",
        "frutas = ['piña', 'pera', 'manzana', 'fresa', 'aguacate']# FOR EACH\n",
        "for numero in frutas:\n",
        "    print(numero)\n",
        "print(\"aaaaaa\")\n",
        "for numero in frutas:\n",
        "    if numero == \"manzana\":\n",
        "        break   # ó continue interrumpe la ejecucion actual pero no el for  completo\n",
        "    print(numero)  # imprime la fruta\n"
      ],
      "metadata": {
        "colab": {
          "base_uri": "https://localhost:8080/"
        },
        "id": "Oswj2m0ZBFeP",
        "outputId": "62f06d7c-b919-4da5-8ba2-10c571a6c83c"
      },
      "execution_count": null,
      "outputs": [
        {
          "output_type": "stream",
          "name": "stdout",
          "text": [
            "1\n",
            "2\n",
            "3\n",
            "4\n",
            "5\n",
            "6\n",
            "7\n",
            "8\n",
            "9\n",
            "piña\n",
            "pera\n",
            "manzana\n",
            "fresa\n",
            "aguacate\n",
            "aaaaaa\n",
            "piña\n",
            "pera\n"
          ]
        }
      ]
    },
    {
      "cell_type": "code",
      "source": [
        "tam = 0\n",
        "while tam < 10:\n",
        "  print(tam)\n",
        "  tam = int(input(\"dame un numero:\"))\n",
        "print(\"final\")"
      ],
      "metadata": {
        "colab": {
          "base_uri": "https://localhost:8080/"
        },
        "id": "jBTu4R4RDeL3",
        "outputId": "5af85d58-aef1-4426-ab79-8f4785b400ff"
      },
      "execution_count": null,
      "outputs": [
        {
          "output_type": "stream",
          "name": "stdout",
          "text": [
            "0\n",
            "dame un numero:5\n",
            "5\n",
            "dame un numero:4\n",
            "4\n",
            "dame un numero:11\n",
            "final\n"
          ]
        }
      ]
    },
    {
      "cell_type": "code",
      "source": [],
      "metadata": {
        "id": "_kRVWG3eExrx"
      },
      "execution_count": null,
      "outputs": []
    }
  ]
}